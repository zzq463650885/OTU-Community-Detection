{
 "cells": [
  {
   "cell_type": "code",
   "execution_count": 1,
   "id": "853ebdb1-32bd-43c8-8628-2e38940f245d",
   "metadata": {},
   "outputs": [],
   "source": [
    "# -*- coding:utf-8 -*-\n",
    "import numpy as np\n",
    "import networkx as nx\n",
    "from math import sqrt\n",
    "import time\n",
    "from components.utils import myadj2edg, merge_graphs,construct_graph\n",
    "\n",
    "names = ['bio72','dpwk', 'line', 'lle', 'n2v']"
   ]
  },
  {
   "cell_type": "markdown",
   "id": "5876639a-0794-4883-b8e6-f0a9498fb47e",
   "metadata": {},
   "source": [
    "#### 功能：单个根据有序features构建pearson系数OTU关联网络  \n",
    "输入：单个features文件名，如dpwk.txt  \n",
    "输出：单个graph文件名，如dpwk.adjlist"
   ]
  },
  {
   "cell_type": "code",
   "execution_count": 2,
   "id": "f3747d80-7274-4381-a143-80a6e8c4fabe",
   "metadata": {},
   "outputs": [],
   "source": [
    "def get_pearson_network( in_fname, out_fname, threshhold ):\n",
    "    \n",
    "    print('in:{},out:{},threshhold:{} processing...'.format(in_fname, out_fname, threshhold))\n",
    "    X = np.loadtxt( in_fname, dtype=float)\n",
    "    m, n = len(X), len(X[0])\n",
    "    X_mean = np.mean(X, axis=1)\n",
    "    # sqrt(sum((x-x_avg)^2))\n",
    "    X_ssfm2 = np.zeros(m) \n",
    "    X_first_moment = []\n",
    "    for i in range(m):\n",
    "        curr_arr = np.zeros(n)          # x_j - x_avg\n",
    "        sum_first_moment_2 = 0\n",
    "        for j in range(n):\n",
    "            curr_arr[j] = X[i][j] - X_mean[i]\n",
    "            sum_first_moment_2 += curr_arr[j] * curr_arr[j]\n",
    "        X_ssfm2[i] = sqrt(sum_first_moment_2)\n",
    "        X_first_moment.append( curr_arr )\n",
    "    print('first_moment over')\n",
    "    \n",
    "    # 根据一阶矩计算相关系数,构建网络 --只计算上三角矩阵\n",
    "    G = nx.Graph()                                  \n",
    "    G.add_nodes_from(np.arange(m))   \n",
    "    neg_threshhold = -1*threshhold        \n",
    "    current_edges = 0\n",
    "    for i in range(m):\n",
    "        for j in range(i+1,m):                      \n",
    "            sum = 0\n",
    "            for k in range(n):\n",
    "                sum += X_first_moment[i][k] * X_first_moment[j][k]\n",
    "            sum /= (X_ssfm2[i] * X_ssfm2[j]) \n",
    "            if sum > threshhold or sum < neg_threshhold :\n",
    "                G.add_edge(i,j)\n",
    "                current_edges += 1\n",
    "        print('\\rnode i:{}, current_edges: {}'.format(i, current_edges),end='')                     \n",
    "        \n",
    "    nx.write_adjlist(G, out_fname)           \n",
    "    print('\\nnetwork saved')"
   ]
  },
  {
   "cell_type": "markdown",
   "id": "75c08fc1-a4fe-4fdd-8f9b-144e68b73d8b",
   "metadata": {},
   "source": [
    "#### 功能：宏观控制OTU关联网络构建  \n",
    "参数：输入、输出文件名、阈值列表"
   ]
  },
  {
   "cell_type": "code",
   "execution_count": null,
   "id": "29843604-697a-4261-b432-5e449c50d721",
   "metadata": {},
   "outputs": [
    {
     "name": "stdout",
     "output_type": "stream",
     "text": [
      "begin time:Wed Apr 28 21:51:12 2021\n",
      "in:./features/bio72.txt,out:./graphs_pearson/bio72.adjlist,threshhold:0.5 processing...\n",
      "first_moment over\n",
      "node i:2976, current_edges: 92274"
     ]
    }
   ],
   "source": [
    "threshholds = [0.5, 0.5, 0.7, 0.5, 0.8]\n",
    "in_fnames = [ './features/'+name+'.txt' for name in names ]\n",
    "out_fnames = [ './graphs_pearson/'+name+'.adjlist' for name in names ]\n",
    "\n",
    "i = 0\n",
    "print('begin time:{}'.format(time.asctime(time.localtime(time.time()))))    \n",
    "get_pearson_network(in_fnames[i], out_fnames[i], threshholds[i] )\n",
    "print('end time:{}'.format(time.asctime(time.localtime(time.time()))))    "
   ]
  },
  {
   "cell_type": "markdown",
   "id": "ed64eeff-bd25-41f5-8532-243ea8d75254",
   "metadata": {},
   "source": [
    "#### Order2 graphs(dpwk,n2v,lle,line) are not joint.   \n",
    "Thus some comparing machine learning algorithms don't work at all.  \n",
    "For this k-neighbours is utilized here.  \n",
    "#### 功能：二阶图k近邻图构建，合并相似性图  \n",
    "输入：名字dpwk, topk值 \n",
    "输出：adjlist格式、edgelist合并图"
   ]
  },
  {
   "cell_type": "code",
   "execution_count": 3,
   "id": "170fef58-081d-40ff-9c70-473b2abff368",
   "metadata": {},
   "outputs": [
    {
     "name": "stdout",
     "output_type": "stream",
     "text": [
      "dpwk k-neighbours graph constructing...\n"
     ]
    },
    {
     "name": "stderr",
     "output_type": "stream",
     "text": [
      "100%|██████████| 25023/25023 [00:06<00:00, 3712.97it/s]\n",
      "25023it [00:00, 30076.50it/s]\n"
     ]
    },
    {
     "name": "stdout",
     "output_type": "stream",
     "text": [
      "dpwk k-neighbours graph constructed...\n",
      "line k-neighbours graph constructing...\n"
     ]
    },
    {
     "name": "stderr",
     "output_type": "stream",
     "text": [
      "100%|██████████| 25023/25023 [00:09<00:00, 2730.00it/s]\n",
      "25023it [00:00, 32949.17it/s]\n"
     ]
    },
    {
     "name": "stdout",
     "output_type": "stream",
     "text": [
      "line k-neighbours graph constructed...\n",
      "lle k-neighbours graph constructing...\n"
     ]
    },
    {
     "name": "stderr",
     "output_type": "stream",
     "text": [
      "100%|██████████| 25023/25023 [00:08<00:00, 2817.14it/s]\n",
      "25023it [00:00, 39618.30it/s]\n"
     ]
    },
    {
     "name": "stdout",
     "output_type": "stream",
     "text": [
      "lle k-neighbours graph constructed...\n",
      "n2v k-neighbours graph constructing...\n"
     ]
    },
    {
     "name": "stderr",
     "output_type": "stream",
     "text": [
      "100%|██████████| 25023/25023 [00:07<00:00, 3255.17it/s]\n",
      "25023it [00:01, 24277.17it/s]\n"
     ]
    },
    {
     "name": "stdout",
     "output_type": "stream",
     "text": [
      "n2v k-neighbours graph constructed...\n"
     ]
    }
   ],
   "source": [
    "# 第一步，生成k近邻图\n",
    "k_input = 5\n",
    "for name in names:\n",
    "    print('{} k-neighbours graph constructing...'.format(name))\n",
    "    construct_graph(name, topk=k_input )\n",
    "    print('{} k-neighbours graph constructed...'.format(name))"
   ]
  },
  {
   "cell_type": "code",
   "execution_count": 3,
   "id": "456a07fb-a967-432f-8e05-4f87038ed970",
   "metadata": {},
   "outputs": [
    {
     "name": "stdout",
     "output_type": "stream",
     "text": [
      "dpwk k-neighbours graph merging...\n"
     ]
    },
    {
     "name": "stderr",
     "output_type": "stream",
     "text": [
      "  0%|          | 0/2299958 [00:00<?, ?it/s]"
     ]
    },
    {
     "name": "stdout",
     "output_type": "stream",
     "text": [
      "G1:./graphs_pearson/dpwk.adjlist & G2:./graphs_kneighbour/dpwk50.adjlist graphs merging...\n",
      "before:G1 edges:2299958,G2 edges:1189250\n"
     ]
    },
    {
     "name": "stderr",
     "output_type": "stream",
     "text": [
      "100%|██████████| 2299958/2299958 [00:17<00:00, 134215.09it/s]\n",
      "100%|██████████| 1189250/1189250 [00:08<00:00, 136502.47it/s]\n"
     ]
    },
    {
     "name": "stdout",
     "output_type": "stream",
     "text": [
      "after:G_merge edges:2852600\n",
      "dpwk k-neighbours graph merged...\n",
      "line k-neighbours graph merging...\n"
     ]
    },
    {
     "name": "stderr",
     "output_type": "stream",
     "text": [
      "  1%|          | 16615/2209212 [00:00<00:13, 166132.33it/s]"
     ]
    },
    {
     "name": "stdout",
     "output_type": "stream",
     "text": [
      "G1:./graphs_pearson/line.adjlist & G2:./graphs_kneighbour/line50.adjlist graphs merging...\n",
      "before:G1 edges:2209212,G2 edges:963528\n"
     ]
    },
    {
     "name": "stderr",
     "output_type": "stream",
     "text": [
      "100%|██████████| 2209212/2209212 [00:15<00:00, 138598.88it/s]\n",
      "100%|██████████| 963528/963528 [00:06<00:00, 147537.31it/s]\n"
     ]
    },
    {
     "name": "stdout",
     "output_type": "stream",
     "text": [
      "after:G_merge edges:2594563\n",
      "line k-neighbours graph merged...\n",
      "lle k-neighbours graph merging...\n"
     ]
    },
    {
     "name": "stderr",
     "output_type": "stream",
     "text": [
      "  0%|          | 0/2344121 [00:00<?, ?it/s]"
     ]
    },
    {
     "name": "stdout",
     "output_type": "stream",
     "text": [
      "G1:./graphs_pearson/lle.adjlist & G2:./graphs_kneighbour/lle50.adjlist graphs merging...\n",
      "before:G1 edges:2344121,G2 edges:955529\n"
     ]
    },
    {
     "name": "stderr",
     "output_type": "stream",
     "text": [
      "100%|██████████| 2344121/2344121 [00:15<00:00, 155034.49it/s]\n",
      "100%|██████████| 955529/955529 [00:06<00:00, 147077.06it/s]\n"
     ]
    },
    {
     "name": "stdout",
     "output_type": "stream",
     "text": [
      "after:G_merge edges:2487156\n",
      "lle k-neighbours graph merged...\n",
      "n2v k-neighbours graph merging...\n"
     ]
    },
    {
     "name": "stderr",
     "output_type": "stream",
     "text": [
      "  1%|          | 14632/2053600 [00:00<00:13, 146296.77it/s]"
     ]
    },
    {
     "name": "stdout",
     "output_type": "stream",
     "text": [
      "G1:./graphs_pearson/n2v.adjlist & G2:./graphs_kneighbour/n2v50.adjlist graphs merging...\n",
      "before:G1 edges:2053600,G2 edges:1130155\n"
     ]
    },
    {
     "name": "stderr",
     "output_type": "stream",
     "text": [
      "100%|██████████| 2053600/2053600 [00:14<00:00, 139185.23it/s]\n",
      "100%|██████████| 1130155/1130155 [00:08<00:00, 140807.97it/s]\n"
     ]
    },
    {
     "name": "stdout",
     "output_type": "stream",
     "text": [
      "after:G_merge edges:2596508\n",
      "n2v k-neighbours graph merged...\n"
     ]
    }
   ],
   "source": [
    "# 第二步，合并pearson图、k近邻图\n",
    "for name in names:\n",
    "    print('{} k-neighbours graph merging...'.format(name))\n",
    "    merge_graphs(name, topk=k_input )\n",
    "    print('{} k-neighbours graph merged...'.format(name))"
   ]
  },
  {
   "cell_type": "markdown",
   "id": "2a2443f6-6019-499c-936e-3d1d4690a76b",
   "metadata": {},
   "source": [
    "#### 功能：adjlist文件转换为edgelist文件  \n",
    "输入：dpwk.adjlist的名字dpwk等  \n",
    "输出：dpwk.edgelist等, 如 0 1 \\n0 6  "
   ]
  },
  {
   "cell_type": "code",
   "execution_count": null,
   "id": "2c50235e-aa66-4c55-af46-dc4f13b3553a",
   "metadata": {},
   "outputs": [],
   "source": [
    "# myadj2edg()"
   ]
  },
  {
   "cell_type": "code",
   "execution_count": null,
   "id": "86d017d7-aef1-479a-a719-0b639086f320",
   "metadata": {},
   "outputs": [],
   "source": []
  }
 ],
 "metadata": {
  "kernelspec": {
   "display_name": "Python 3",
   "language": "python",
   "name": "python3"
  },
  "language_info": {
   "codemirror_mode": {
    "name": "ipython",
    "version": 3
   },
   "file_extension": ".py",
   "mimetype": "text/x-python",
   "name": "python",
   "nbconvert_exporter": "python",
   "pygments_lexer": "ipython3",
   "version": "3.7.9"
  }
 },
 "nbformat": 4,
 "nbformat_minor": 5
}
