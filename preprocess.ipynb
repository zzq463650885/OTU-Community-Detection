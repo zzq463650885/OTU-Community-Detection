{
 "cells": [
  {
   "cell_type": "code",
   "execution_count": 1,
   "id": "853ebdb1-32bd-43c8-8628-2e38940f245d",
   "metadata": {},
   "outputs": [],
   "source": [
    "# -*- coding:utf-8 -*-\n",
    "import numpy as np\n",
    "import networkx as nx\n",
    "from math import sqrt"
   ]
  },
  {
   "cell_type": "markdown",
   "id": "5876639a-0794-4883-b8e6-f0a9498fb47e",
   "metadata": {},
   "source": [
    "功能：单个根据有序features构建pearson系数OTU关联网络  \n",
    "输入：单个features文件名，如dpwk.txt  \n",
    "输出：单个graph文件名，如dpwk.adjlist"
   ]
  },
  {
   "cell_type": "code",
   "execution_count": 2,
   "id": "f3747d80-7274-4381-a143-80a6e8c4fabe",
   "metadata": {},
   "outputs": [],
   "source": [
    "def get_pearson_network( in_fname, out_fname, threshhold ):\n",
    "    \n",
    "    print('in:{},out:{},threshhold:{} processing...'.format(in_fname, out_fname, threshhold))\n",
    "    X = np.loadtxt( in_fname, dtype=float)\n",
    "    m, n = len(X), len(X[0])\n",
    "    X_mean = np.mean(X, axis=1)\n",
    "    # sqrt(sum((x-x_avg)^2))\n",
    "    X_ssfm2 = np.zeros(m) \n",
    "    X_first_moment = []\n",
    "    for i in range(m):\n",
    "        curr_arr = np.zeros(n)          # x_j - x_avg\n",
    "        sum_first_moment_2 = 0\n",
    "        for j in range(n):\n",
    "            curr_arr[j] = X[i][j] - X_mean[i]\n",
    "            sum_first_moment_2 += curr_arr[j] * curr_arr[j]\n",
    "        X_ssfm2[i] = sqrt(sum_first_moment_2)\n",
    "        X_first_moment.append( curr_arr )\n",
    "    print('first_moment over')\n",
    "    \n",
    "    # 根据一阶矩计算相关系数,构建网络 --只计算上三角矩阵\n",
    "    G = nx.Graph()                                  \n",
    "    G.add_nodes_from(np.arange(m))   \n",
    "    neg_threshhold = -1*threshhold        \n",
    "    current_edges = 0\n",
    "    for i in range(m):\n",
    "        for j in range(i+1,m):                      \n",
    "            sum = 0\n",
    "            for k in range(n):\n",
    "                sum += X_first_moment[i][k] * X_first_moment[j][k]\n",
    "            sum /= (X_ssfm2[i] * X_ssfm2[j]) \n",
    "            if sum > threshhold or sum < neg_threshhold :\n",
    "                G.add_edge(i,j)\n",
    "                current_edges += 1\n",
    "        print('\\rnode i:{}, current_edges: {}'.format(i, current_edges),end='')                     \n",
    "        \n",
    "    nx.write_adjlist(G, out_file_name)           \n",
    "    print('network saved')"
   ]
  },
  {
   "cell_type": "markdown",
   "id": "75c08fc1-a4fe-4fdd-8f9b-144e68b73d8b",
   "metadata": {},
   "source": [
    "功能：宏观控制OTU关联网络构建\n",
    "参数：输入、输出文件名、阈值列表"
   ]
  },
  {
   "cell_type": "code",
   "execution_count": null,
   "id": "29843604-697a-4261-b432-5e449c50d721",
   "metadata": {},
   "outputs": [
    {
     "name": "stdout",
     "output_type": "stream",
     "text": [
      "in:./features/dpwk.txt,out:./graphs_new/dpwk.adjlist,threshhold:0.5 processing...\n",
      "first_moment over\n",
      "node i:443, current_edges: 66792"
     ]
    }
   ],
   "source": [
    "names = ['dpwk', 'line', 'lle', 'n2v']\n",
    "threshholds = [0.5, 0.7, 0.5, 0.8]\n",
    "in_fnames = [ './features/'+name+'.txt' for name in names ]\n",
    "out_fnames = [ './graphs_new/'+name+'.adjlist' for name in names ]\n",
    "\n",
    "i = 0\n",
    "get_pearson_network(in_fnames[i], out_fnames[i], threshholds[i] )"
   ]
  },
  {
   "cell_type": "code",
   "execution_count": null,
   "id": "05130e7a-694a-43b6-8f2c-c72dfecc0b88",
   "metadata": {},
   "outputs": [],
   "source": []
  }
 ],
 "metadata": {
  "kernelspec": {
   "display_name": "Python 3",
   "language": "python",
   "name": "python3"
  },
  "language_info": {
   "codemirror_mode": {
    "name": "ipython",
    "version": 3
   },
   "file_extension": ".py",
   "mimetype": "text/x-python",
   "name": "python",
   "nbconvert_exporter": "python",
   "pygments_lexer": "ipython3",
   "version": "3.7.9"
  }
 },
 "nbformat": 4,
 "nbformat_minor": 5
}
