{
 "cells": [
  {
   "cell_type": "code",
   "execution_count": 1,
   "id": "853ebdb1-32bd-43c8-8628-2e38940f245d",
   "metadata": {},
   "outputs": [],
   "source": [
    "# -*- coding:utf-8 -*-\n",
    "import numpy as np\n",
    "import networkx as nx\n",
    "from math import sqrt\n",
    "import time\n",
    "from components.utils import myadj2edg, merge_graphs,construct_graph"
   ]
  },
  {
   "cell_type": "markdown",
   "id": "5876639a-0794-4883-b8e6-f0a9498fb47e",
   "metadata": {},
   "source": [
    "#### 功能：单个根据有序features构建pearson系数OTU关联网络  \n",
    "输入：单个features文件名，如dpwk.txt  \n",
    "输出：单个graph文件名，如dpwk.adjlist"
   ]
  },
  {
   "cell_type": "code",
   "execution_count": 2,
   "id": "f3747d80-7274-4381-a143-80a6e8c4fabe",
   "metadata": {},
   "outputs": [],
   "source": [
    "def get_pearson_network( in_fname, out_fname, threshhold ):\n",
    "    \n",
    "    print('in:{},out:{},threshhold:{} processing...'.format(in_fname, out_fname, threshhold))\n",
    "    X = np.loadtxt( in_fname, dtype=float)\n",
    "    m, n = len(X), len(X[0])\n",
    "    X_mean = np.mean(X, axis=1)\n",
    "    # sqrt(sum((x-x_avg)^2))\n",
    "    X_ssfm2 = np.zeros(m) \n",
    "    X_first_moment = []\n",
    "    for i in range(m):\n",
    "        curr_arr = np.zeros(n)          # x_j - x_avg\n",
    "        sum_first_moment_2 = 0\n",
    "        for j in range(n):\n",
    "            curr_arr[j] = X[i][j] - X_mean[i]\n",
    "            sum_first_moment_2 += curr_arr[j] * curr_arr[j]\n",
    "        X_ssfm2[i] = sqrt(sum_first_moment_2)\n",
    "        X_first_moment.append( curr_arr )\n",
    "    print('first_moment over')\n",
    "    \n",
    "    # 根据一阶矩计算相关系数,构建网络 --只计算上三角矩阵\n",
    "    G = nx.Graph()                                  \n",
    "    G.add_nodes_from(np.arange(m))   \n",
    "    neg_threshhold = -1*threshhold        \n",
    "    current_edges = 0\n",
    "    for i in range(m):\n",
    "        for j in range(i+1,m):                      \n",
    "            sum = 0\n",
    "            for k in range(n):\n",
    "                sum += X_first_moment[i][k] * X_first_moment[j][k]\n",
    "            sum /= (X_ssfm2[i] * X_ssfm2[j]) \n",
    "            if sum > threshhold or sum < neg_threshhold :\n",
    "                G.add_edge(i,j)\n",
    "                current_edges += 1\n",
    "        print('\\rnode i:{}, current_edges: {}'.format(i, current_edges),end='')                     \n",
    "        \n",
    "    nx.write_adjlist(G, out_fname)           \n",
    "    print('\\nnetwork saved')"
   ]
  },
  {
   "cell_type": "markdown",
   "id": "75c08fc1-a4fe-4fdd-8f9b-144e68b73d8b",
   "metadata": {},
   "source": [
    "#### 功能：宏观控制OTU关联网络构建  \n",
    "参数：输入、输出文件名、阈值列表"
   ]
  },
  {
   "cell_type": "code",
   "execution_count": 2,
   "id": "29843604-697a-4261-b432-5e449c50d721",
   "metadata": {},
   "outputs": [
    {
     "name": "stdout",
     "output_type": "stream",
     "text": [
      "begin time:Sun Apr 25 22:41:30 2021\n",
      "end time:Sun Apr 25 22:41:30 2021\n"
     ]
    }
   ],
   "source": [
    "names = ['dpwk', 'line', 'lle', 'n2v']\n",
    "threshholds = [0.5, 0.7, 0.5, 0.8]\n",
    "in_fnames = [ './features/'+name+'.txt' for name in names ]\n",
    "out_fnames = [ './graphs_new/'+name+'.adjlist' for name in names ]\n",
    "\n",
    "i = 0\n",
    "print('begin time:{}'.format(time.asctime(time.localtime(time.time()))))    \n",
    "# get_pearson_network(in_fnames[i], out_fnames[i], threshholds[i] )\n",
    "print('end time:{}'.format(time.asctime(time.localtime(time.time()))))    "
   ]
  },
  {
   "cell_type": "markdown",
   "id": "ed64eeff-bd25-41f5-8532-243ea8d75254",
   "metadata": {},
   "source": [
    "#### Order2 graphs(dpwk,n2v,lle,line) are not joint.   \n",
    "Thus some comparing machine learning algorithms don't work at all.  \n",
    "For this k-neighbours is utilized here.  \n",
    "#### 功能：二阶图k近邻图构建，合并相似性图  \n",
    "输入：名字dpwk等  \n",
    "输出：adjlist格式、edgelist合并图"
   ]
  },
  {
   "cell_type": "code",
   "execution_count": 4,
   "id": "170fef58-081d-40ff-9c70-473b2abff368",
   "metadata": {},
   "outputs": [
    {
     "name": "stdout",
     "output_type": "stream",
     "text": [
      "dpwk k-neighbours graph constructing...\n"
     ]
    },
    {
     "name": "stderr",
     "output_type": "stream",
     "text": [
      "100%|██████████| 25023/25023 [00:08<00:00, 2877.91it/s]\n",
      "25023it [00:03, 7343.78it/s]\n"
     ]
    },
    {
     "name": "stdout",
     "output_type": "stream",
     "text": [
      "dpwk k-neighbours graph constructed...\n",
      "line k-neighbours graph constructing...\n"
     ]
    },
    {
     "name": "stderr",
     "output_type": "stream",
     "text": [
      "100%|██████████| 25023/25023 [00:09<00:00, 2568.74it/s]\n",
      "25023it [00:03, 7315.45it/s]\n"
     ]
    },
    {
     "name": "stdout",
     "output_type": "stream",
     "text": [
      "line k-neighbours graph constructed...\n",
      "lle k-neighbours graph constructing...\n"
     ]
    },
    {
     "name": "stderr",
     "output_type": "stream",
     "text": [
      "100%|██████████| 25023/25023 [00:06<00:00, 3727.05it/s]\n",
      "25023it [00:03, 7009.73it/s]\n"
     ]
    },
    {
     "name": "stdout",
     "output_type": "stream",
     "text": [
      "lle k-neighbours graph constructed...\n",
      "n2v k-neighbours graph constructing...\n"
     ]
    },
    {
     "name": "stderr",
     "output_type": "stream",
     "text": [
      "100%|██████████| 25023/25023 [00:05<00:00, 4244.84it/s]\n",
      "25023it [00:03, 8063.87it/s]\n"
     ]
    },
    {
     "name": "stdout",
     "output_type": "stream",
     "text": [
      "n2v k-neighbours graph constructed...\n"
     ]
    }
   ],
   "source": [
    "# 第一步，生成k近邻图\n",
    "for name in names:\n",
    "    print('{} k-neighbours graph constructing...'.format(name))\n",
    "    construct_graph(name)\n",
    "    print('{} k-neighbours graph constructed...'.format(name))"
   ]
  },
  {
   "cell_type": "code",
   "execution_count": 3,
   "id": "456a07fb-a967-432f-8e05-4f87038ed970",
   "metadata": {},
   "outputs": [
    {
     "name": "stdout",
     "output_type": "stream",
     "text": [
      "dpwk k-neighbours graph merging...\n"
     ]
    },
    {
     "name": "stderr",
     "output_type": "stream",
     "text": [
      "  1%|          | 16137/2299958 [00:00<00:14, 161356.30it/s]"
     ]
    },
    {
     "name": "stdout",
     "output_type": "stream",
     "text": [
      "G1:./graphs_pearson/dpwk.adjlist & G2:./graphs_kneighbour/dpwk30.adjlist graphs merging...\n",
      "before:G1 edges:2299958,G2 edges:710565\n"
     ]
    },
    {
     "name": "stderr",
     "output_type": "stream",
     "text": [
      "100%|██████████| 2299958/2299958 [00:15<00:00, 150065.36it/s]\n",
      "100%|██████████| 710565/710565 [00:05<00:00, 134381.75it/s]\n"
     ]
    },
    {
     "name": "stdout",
     "output_type": "stream",
     "text": [
      "after:G_merge edges:2578948\n",
      "dpwk k-neighbours graph merged...\n",
      "line k-neighbours graph merging...\n"
     ]
    },
    {
     "name": "stderr",
     "output_type": "stream",
     "text": [
      "  1%|          | 15480/2209212 [00:00<00:14, 154782.80it/s]"
     ]
    },
    {
     "name": "stdout",
     "output_type": "stream",
     "text": [
      "G1:./graphs_pearson/line.adjlist & G2:./graphs_kneighbour/line30.adjlist graphs merging...\n",
      "before:G1 edges:2209212,G2 edges:582314\n"
     ]
    },
    {
     "name": "stderr",
     "output_type": "stream",
     "text": [
      "100%|██████████| 2209212/2209212 [00:14<00:00, 147943.80it/s]\n",
      "100%|██████████| 582314/582314 [00:04<00:00, 139407.83it/s]\n"
     ]
    },
    {
     "name": "stdout",
     "output_type": "stream",
     "text": [
      "after:G_merge edges:2405052\n",
      "line k-neighbours graph merged...\n",
      "lle k-neighbours graph merging...\n"
     ]
    },
    {
     "name": "stderr",
     "output_type": "stream",
     "text": [
      "  1%|          | 16619/2344121 [00:00<00:14, 166176.29it/s]"
     ]
    },
    {
     "name": "stdout",
     "output_type": "stream",
     "text": [
      "G1:./graphs_pearson/lle.adjlist & G2:./graphs_kneighbour/lle30.adjlist graphs merging...\n",
      "before:G1 edges:2344121,G2 edges:575980\n"
     ]
    },
    {
     "name": "stderr",
     "output_type": "stream",
     "text": [
      "100%|██████████| 2344121/2344121 [00:16<00:00, 145447.51it/s]\n",
      "100%|██████████| 575980/575980 [00:03<00:00, 144941.89it/s]\n"
     ]
    },
    {
     "name": "stdout",
     "output_type": "stream",
     "text": [
      "after:G_merge edges:2396027\n",
      "lle k-neighbours graph merged...\n",
      "n2v k-neighbours graph merging...\n"
     ]
    },
    {
     "name": "stderr",
     "output_type": "stream",
     "text": [
      "  1%|          | 15293/2053600 [00:00<00:13, 152912.28it/s]"
     ]
    },
    {
     "name": "stdout",
     "output_type": "stream",
     "text": [
      "G1:./graphs_pearson/n2v.adjlist & G2:./graphs_kneighbour/n2v30.adjlist graphs merging...\n",
      "before:G1 edges:2053600,G2 edges:678259\n"
     ]
    },
    {
     "name": "stderr",
     "output_type": "stream",
     "text": [
      "100%|██████████| 2053600/2053600 [00:13<00:00, 149148.23it/s]\n",
      "100%|██████████| 678259/678259 [00:04<00:00, 144810.64it/s]\n"
     ]
    },
    {
     "name": "stdout",
     "output_type": "stream",
     "text": [
      "after:G_merge edges:2321598\n",
      "n2v k-neighbours graph merged...\n"
     ]
    }
   ],
   "source": [
    "# 第二步，合并pearson图、k近邻图\n",
    "for name in names:\n",
    "    print('{} k-neighbours graph merging...'.format(name))\n",
    "    merge_graphs(name)\n",
    "    print('{} k-neighbours graph merged...'.format(name))"
   ]
  },
  {
   "cell_type": "markdown",
   "id": "2a2443f6-6019-499c-936e-3d1d4690a76b",
   "metadata": {},
   "source": [
    "#### 功能：adjlist文件转换为edgelist文件  \n",
    "输入：dpwk.adjlist的名字dpwk等  \n",
    "输出：dpwk.edgelist等, 如 0 1 \\n0 6  "
   ]
  },
  {
   "cell_type": "code",
   "execution_count": null,
   "id": "2c50235e-aa66-4c55-af46-dc4f13b3553a",
   "metadata": {},
   "outputs": [],
   "source": [
    "# myadj2edg()"
   ]
  },
  {
   "cell_type": "code",
   "execution_count": null,
   "id": "86d017d7-aef1-479a-a719-0b639086f320",
   "metadata": {},
   "outputs": [],
   "source": []
  }
 ],
 "metadata": {
  "kernelspec": {
   "display_name": "Python 3",
   "language": "python",
   "name": "python3"
  },
  "language_info": {
   "codemirror_mode": {
    "name": "ipython",
    "version": 3
   },
   "file_extension": ".py",
   "mimetype": "text/x-python",
   "name": "python",
   "nbconvert_exporter": "python",
   "pygments_lexer": "ipython3",
   "version": "3.7.9"
  }
 },
 "nbformat": 4,
 "nbformat_minor": 5
}
