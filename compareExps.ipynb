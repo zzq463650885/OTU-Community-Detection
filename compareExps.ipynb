{
 "cells": [
  {
   "cell_type": "markdown",
   "id": "3df18c49-b2b0-46aa-ad7f-1580326dc874",
   "metadata": {},
   "source": [
    "## Compare Experiments\n",
    "```\n",
    "karateclub's Non-Overlapping Community Detection  examples: https://github.com/benedekrozemberczki/karateclub/tree/master/examples/community_detection\n",
    "1. GEMSEC (ASONAM 2019)  \n",
    "2. EdMot (KDD 2019)   \n",
    "3. SCD (WWW 2014)   \n",
    "4. LabelPropagation (Physics Review E 2007)  \n",
    "5. Spectral Clustering  \n",
    "6. Louvain \n",
    "```"
   ]
  },
  {
   "cell_type": "code",
   "execution_count": 1,
   "id": "6d2c1c9c-c445-4738-b990-5eb59204f919",
   "metadata": {},
   "outputs": [],
   "source": [
    "import numpy as np\n",
    "from  sklearn import datasets\n",
    "from sklearn.cluster import SpectralClustering\n",
    "from community import best_partition\n",
    "import networkx as nx\n",
    "import time\n",
    "import matplotlib.pyplot as plt\n",
    "from karateclub.community_detection.non_overlapping import GEMSEC, SCD, LabelPropagation, EdMot\n",
    "from components.utils import load_edgelist_graph,load_ordered_adjlist_graph\n",
    "from components.evaluation import modularity, symmetric_matrix_modularity\n",
    "import nocd\n",
    "import matplotlib.pyplot as plt\n",
    "%matplotlib inline"
   ]
  },
  {
   "cell_type": "markdown",
   "id": "861ff03e-5c0d-4ca0-aa23-8bd63011089b",
   "metadata": {},
   "source": [
    "### 1.1 graph"
   ]
  },
  {
   "cell_type": "code",
   "execution_count": 2,
   "id": "1ca253e2-c83b-4e23-818c-3c49e3d55296",
   "metadata": {},
   "outputs": [
    {
     "name": "stdout",
     "output_type": "stream",
     "text": [
      "data load time:Fri Apr 30 22:04:04 2021\n"
     ]
    },
    {
     "name": "stderr",
     "output_type": "stream",
     "text": [
      "100%|██████████| 2852600/2852600 [00:19<00:00, 147138.09it/s]\n"
     ]
    },
    {
     "name": "stdout",
     "output_type": "stream",
     "text": [
      "G nodes 25023,edges 2877623 with self-loops read already\n",
      "data load time:Fri Apr 30 22:04:32 2021\n"
     ]
    }
   ],
   "source": [
    "name = 'dpwk'\n",
    "# 'pearson'   'merged'   'kneighbour'\n",
    "graph_type = 'merged'\n",
    "k_str = '50' \n",
    "\n",
    "print('data load time:{}'.format(time.asctime(time.localtime(time.time()))))   \n",
    "if graph_type=='kneighbour':\n",
    "    adjlist_graph_path = './graphs_' + graph_type + '/' + name + k_str+'.adjlist'\n",
    "else:\n",
    "    adjlist_graph_path = './graphs_' + graph_type + '/' + name + '.adjlist'\n",
    "G = load_ordered_adjlist_graph(adjlist_graph_path)\n",
    "x_path = './features/' + name + '.txt'\n",
    "x = np.loadtxt( x_path, dtype=float)\n",
    "y_pred = []\n",
    "print('data load time:{}'.format(time.asctime(time.localtime(time.time()))))   "
   ]
  },
  {
   "cell_type": "markdown",
   "id": "0768d003-9312-4857-8d04-c6b15eb0fe29",
   "metadata": {},
   "source": [
    "#### karateclub"
   ]
  },
  {
   "cell_type": "code",
   "execution_count": 3,
   "id": "55094f1a-cfc3-4c4e-94a5-41db9db42aba",
   "metadata": {},
   "outputs": [],
   "source": [
    "model = LabelPropagation(iterations = 5)\n",
    "\n",
    "def do_karate_train():\n",
    "    model.fit(G)\n",
    "    y_pred = model.get_memberships()\n",
    "    return y_pred"
   ]
  },
  {
   "cell_type": "markdown",
   "id": "533d3d1f-4cc9-43eb-a03c-c263864e04bc",
   "metadata": {},
   "source": [
    "#### Spectral Cluster"
   ]
  },
  {
   "cell_type": "code",
   "execution_count": 4,
   "id": "e2ed96ee-3294-429c-a972-9b47f0cb437b",
   "metadata": {},
   "outputs": [],
   "source": [
    "data_type = 'matrix'\n",
    "n_clusters = 8\n",
    "\n",
    "def do_spectral_train():\n",
    "    y_pred = []\n",
    "    if data_type == 'matrix':\n",
    "        A = nx.to_numpy_array(G)\n",
    "        y_pred = SpectralClustering( n_clusters , affinity='precomputed').fit_predict( A )\n",
    "    elif data_type == 'features':\n",
    "        y_pred = SpectralClustering( n_clusters ).fit_predict( x )  \n",
    "    return y_pred"
   ]
  },
  {
   "cell_type": "markdown",
   "id": "e0c9b78a-7d2a-4937-9bfb-f2d4e0dc85b7",
   "metadata": {},
   "source": [
    "### train( karaclub or spectral or best_partition )"
   ]
  },
  {
   "cell_type": "code",
   "execution_count": 5,
   "id": "839f79c8-e066-4040-8473-24d1a5066f85",
   "metadata": {},
   "outputs": [
    {
     "name": "stdout",
     "output_type": "stream",
     "text": [
      "train time:Fri Apr 30 22:06:30 2021\n"
     ]
    }
   ],
   "source": [
    "y_pred =  do_karate_train()\n",
    "# y_pred = do_spectral_train()\n",
    "# y_pred = best_partition(graph=G, resolution = 50)\n",
    "print('train time:{}'.format(time.asctime(time.localtime(time.time()))))  "
   ]
  },
  {
   "cell_type": "markdown",
   "id": "280442a3-48ea-41d0-9c62-4391197558ca",
   "metadata": {},
   "source": [
    "### 3.1 evaluate"
   ]
  },
  {
   "cell_type": "code",
   "execution_count": 6,
   "id": "6ec07316-31b6-4f87-a8a9-8f56055c991f",
   "metadata": {},
   "outputs": [
    {
     "name": "stdout",
     "output_type": "stream",
     "text": [
      "dpwk\n",
      "\n",
      "Final symmetric_matrix_modularity = 0.70575422\n",
      "evaluae modularity over time:Fri Apr 30 22:09:57 2021\n"
     ]
    }
   ],
   "source": [
    "print(name)\n",
    "print(f'\\nFinal symmetric_matrix_modularity = {symmetric_matrix_modularity(G, y_pred):.8f}')\n",
    "print('evaluae modularity over time:{}'.format(time.asctime(time.localtime(time.time()))))   "
   ]
  },
  {
   "cell_type": "code",
   "execution_count": 7,
   "id": "62857df4-7b17-4e6e-87eb-e6db77cda588",
   "metadata": {},
   "outputs": [
    {
     "name": "stdout",
     "output_type": "stream",
     "text": [
      "number of communities: 72\n",
      "community 23417 count  1278\n",
      "community 23329 count   815\n",
      "community 24966 count  1105\n",
      "community 11201 count   352\n",
      "community 20749 count  1430\n",
      "community  7126 count  2882\n",
      "community 18989 count   706\n",
      "community  6961 count  1446\n",
      "community  2047 count  1029\n",
      "community 11151 count   252\n",
      "community  4529 count   250\n",
      "community   448 count   121\n",
      "community  1867 count   451\n",
      "community 15707 count   330\n",
      "community 11882 count   111\n",
      "community 19818 count  1078\n",
      "community 22498 count   600\n",
      "community 24837 count   510\n",
      "community  6153 count    50\n",
      "community 13565 count  1369\n",
      "community  5217 count   201\n",
      "community  1128 count   905\n",
      "community 23542 count   515\n",
      "community  3274 count   998\n",
      "community  5646 count   388\n",
      "community 21126 count   374\n",
      "community 23117 count  1179\n",
      "community 14492 count   251\n",
      "community 13162 count   674\n",
      "community 12996 count   289\n",
      "community 17296 count   108\n",
      "community 24344 count    91\n",
      "community 16683 count   448\n",
      "community 10170 count     4\n",
      "community  1172 count   377\n",
      "community   908 count    69\n",
      "community 12523 count   651\n",
      "community 17558 count   351\n",
      "community  1003 count    15\n",
      "community  2149 count    57\n",
      "community 14095 count   342\n",
      "community  7848 count    69\n",
      "community  9413 count    13\n",
      "community 19675 count    16\n",
      "community  6793 count   108\n",
      "community 16671 count    12\n",
      "community 13362 count    26\n",
      "community 11221 count     8\n",
      "community 14463 count     6\n",
      "community 20531 count   110\n",
      "community  6917 count    15\n",
      "community 24481 count    42\n",
      "community 20423 count    29\n",
      "community  4846 count    19\n",
      "community 23268 count     4\n",
      "community 24024 count    21\n",
      "community 18332 count    21\n",
      "community  3445 count     9\n",
      "community 16630 count     1\n",
      "community  4747 count     3\n",
      "community  5331 count     8\n",
      "community 18117 count     1\n",
      "community 17156 count     1\n",
      "community  6610 count     4\n",
      "community 15388 count     1\n",
      "community  8614 count    12\n",
      "community 10687 count     2\n",
      "community 19033 count     2\n",
      "community 16487 count     1\n",
      "community  2621 count     1\n",
      "community 18500 count     3\n",
      "community 23637 count     3\n"
     ]
    }
   ],
   "source": [
    "comm2count = {}\n",
    "for i in range(25023):\n",
    "    if y_pred[i] in comm2count:\n",
    "        comm2count[y_pred[i]] += 1\n",
    "    else:\n",
    "        comm2count[y_pred[i]] = 1\n",
    "print('number of communities: {}'.format(len(comm2count)))\n",
    "for ky in comm2count.keys():\n",
    "    print('community {:5d} count {:5d}'.format(ky, comm2count[ky]))"
   ]
  },
  {
   "cell_type": "markdown",
   "id": "140f94d8-8dde-4993-a156-3be18e0af79b",
   "metadata": {},
   "source": [
    "Community Detection\n",
    "```\n",
    "plt.figure(figsize=[10, 10])\n",
    "o = np.argsort(y_pred)\n",
    "graph_edgelist_path =  './graphs_' + graph_type + '/' + name + '.edgelist'\n",
    "A = load_edgelist_graph(graph_edgelist_path)\n",
    "nocd.utils.plot_sparse_clustered_adjacency(A, n_clusters, y_pred, o, markersize=0.05)\n",
    "```"
   ]
  },
  {
   "cell_type": "markdown",
   "id": "b72edfc6-ab31-468a-83a6-39af26e9a7e4",
   "metadata": {},
   "source": [
    "### Total Draw"
   ]
  },
  {
   "cell_type": "markdown",
   "id": "95015570-293f-4880-8afd-d42f5bbf611c",
   "metadata": {},
   "source": [
    "```\n",
    "'''total modularity'''\n",
    "graphs_size = 5\n",
    "x = np.arange(graphs_size)\n",
    "y_LabelProp   = np.array([ 0.5332, 0.7481, 0.7435, 0.7943, 0.8429 ])\n",
    "y_SCD         = np.array([ 0.3128, 0.5534, 0.5713, 0.6969, 0.6928 ])\n",
    "y_GEMSEC      = np.array([ 0.0531, 0.4448, 0.4275, 0.3922, 0.5468 ])\n",
    "y_Spectral    = np.array([ 0.4100, 0.6568, 0.6546, 0.3614, 0.7289 ])\n",
    "y_Louvain     = np.array([ 0.5872, 0.6798, 0.7176, 0.8092, 0.7812 ])\n",
    "y_OTUCD       = np.array([ 0.5371, 0.7250, 0.7267, 0.7447, 0.7943 ]) \n",
    "\n",
    "total_width, n_methods = 0.8, 6    # zhihu 0.8, 3\n",
    "width = total_width / n_methods\n",
    "x = x - (total_width - width) / 2\n",
    "\n",
    "plt.bar(x,             y_LabelProp,  width=width, label='LabelProp')\n",
    "plt.bar(x + width,     y_SCD,        width=width, label='SCD')\n",
    "plt.bar(x + 2 * width, y_GEMSEC,     width=width, label='GEMSEC')\n",
    "plt.bar(x + 3 * width, y_Spectral,   width=width, label='Spectral')\n",
    "plt.bar(x + 4 * width, y_Louvain,    width=width, label='Louvain')\n",
    "plt.bar(x + 5 * width, y_OTUCD,      width=width, label='OTUCD')\n",
    "plt.legend( loc=2, bbox_to_anchor=(1.05,1.0) )\n",
    "plt.show()\n",
    "```"
   ]
  },
  {
   "cell_type": "markdown",
   "id": "1df1e42f-ee45-4641-80a4-a80a88122af0",
   "metadata": {},
   "source": [
    "### Parameters Draw"
   ]
  },
  {
   "cell_type": "code",
   "execution_count": 8,
   "id": "ab931e7b-1481-492f-99a2-f46b3cceb9cc",
   "metadata": {},
   "outputs": [
    {
     "data": {
      "image/png": "[encoded data removed]",
      "text/plain": [
       "<Figure size 432x288 with 1 Axes>"
      ]
     },
     "metadata": {
      "needs_background": "light"
     },
     "output_type": "display_data"
    },
    {
     "data": {
      "image/png": "[encoded data removed]",
      "text/plain": [
       "<Figure size 432x288 with 1 Axes>"
      ]
     },
     "metadata": {
      "needs_background": "light"
     },
     "output_type": "display_data"
    },
    {
     "data": {
      "image/png": "[encoded data removed]",
      "text/plain": [
       "<Figure size 432x288 with 1 Axes>"
      ]
     },
     "metadata": {
      "needs_background": "light"
     },
     "output_type": "display_data"
    },
    {
     "data": {
      "image/png": "[encoded data removed]",
      "text/plain": [
       "<Figure size 432x288 with 1 Axes>"
      ]
     },
     "metadata": {
      "needs_background": "light"
     },
     "output_type": "display_data"
    }
   ],
   "source": [
    "x_clusters = np.arange(2,33);\n",
    "y_clusters = [0.4022, 0.5417, 0.6139, 0.6439, 0.6722, 0.6829, 0.7070, 0.6798,\n",
    "                        0.6932, 0.7228, 0.7075, 0.7193, 0.7104, 0.7150, 0.7250, 0.7274,\n",
    "                        0.7208, 0.7138, 0.7260, 0.7125, 0.7231, 0.7260, 0.7130, 0.7222, \n",
    "                       0.7235, 0.7260, 0.7231, 0.7216, 0.7219, 0.7149, 0.7166 ]\n",
    "plt.xlabel(\"number of communities\")\n",
    "plt.ylabel(\"modularity\")\n",
    "plt.plot(x_clusters, y_clusters )\n",
    "plt.show()\n",
    "\n",
    "x_dropout = np.arange(1,10) / 10\n",
    "y_dropout = [ 0.7079, 0.6899, 0.6964, 0.6905, 0.7003, 0.6993, 0.7103, 0.6988, 0.6837 ] \n",
    "plt.xlabel(\"dropout value\")\n",
    "plt.ylabel(\"modularity\")\n",
    "plt.plot(x_dropout, y_dropout )\n",
    "plt.show()\n",
    "\n",
    "x_lr = np.log10([1e-1,1e-2,1e-3,1e-4])\n",
    "y_lr = [0.5260, 0.6825, 0.6948, 0.6721]\n",
    "plt.xlabel(\"learning rate value(log10)\")\n",
    "plt.ylabel(\"modularity\")\n",
    "plt.plot(x_lr, y_lr )\n",
    "plt.show()\n",
    "\n",
    "x_hidden_layer = [32, 64, 128, 256, 512, 1024, 2048, 4096]   \n",
    "y_hidden_layer = [ 0.6867, 0.6731, 0.7071, 0.6832, 0.7003, 0.6902, 0.6954, 0.6858 ]   \n",
    "plt.xlabel(\"one hidden layer size(log2)\")\n",
    "plt.ylabel(\"modularity\")\n",
    "plt.plot(np.log2(x_hidden_layer), y_hidden_layer )\n",
    "plt.show()"
   ]
  },
  {
   "cell_type": "code",
   "execution_count": null,
   "id": "1841561d-884a-48fc-8bfd-58dcc8bb4ca5",
   "metadata": {},
   "outputs": [],
   "source": []
  }
 ],
 "metadata": {
  "kernelspec": {
   "display_name": "Python 3",
   "language": "python",
   "name": "python3"
  },
  "language_info": {
   "codemirror_mode": {
    "name": "ipython",
    "version": 3
   },
   "file_extension": ".py",
   "mimetype": "text/x-python",
   "name": "python",
   "nbconvert_exporter": "python",
   "pygments_lexer": "ipython3",
   "version": "3.7.9"
  }
 },
 "nbformat": 4,
 "nbformat_minor": 5
}
