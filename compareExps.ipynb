{
 "cells": [
  {
   "cell_type": "markdown",
   "id": "3df18c49-b2b0-46aa-ad7f-1580326dc874",
   "metadata": {},
   "source": [
    "#### karateclub's Non-Overlapping Community Detection  \n",
    "GEMSEC (ASONAM 2019)  \n",
    "EdMot (KDD 2019)   \n",
    "SCD (WWW 2014)   \n",
    "Label Propagation (Physics Review E 2007)  \n",
    "examples: https://github.com/benedekrozemberczki/karateclub/tree/master/examples/community_detection"
   ]
  },
  {
   "cell_type": "code",
   "execution_count": 1,
   "id": "6d2c1c9c-c445-4738-b990-5eb59204f919",
   "metadata": {},
   "outputs": [],
   "source": [
    "import networkx as nx\n",
    "import time\n",
    "import matplotlib.pyplot as plt\n",
    "from karateclub.community_detection.non_overlapping import GEMSEC, SCD, LabelPropagation, EdMot\n",
    "from utils import load_edgelist_graph,load_ordered_adjlist_graph\n",
    "from evaluation import symmetric_matrix_modularity"
   ]
  },
  {
   "cell_type": "markdown",
   "id": "861ff03e-5c0d-4ca0-aa23-8bd63011089b",
   "metadata": {},
   "source": [
    "#### graph"
   ]
  },
  {
   "cell_type": "code",
   "execution_count": 2,
   "id": "1ca253e2-c83b-4e23-818c-3c49e3d55296",
   "metadata": {},
   "outputs": [
    {
     "name": "stdout",
     "output_type": "stream",
     "text": [
      "begin time:Sun Apr 25 12:47:59 2021\n",
      "initial G nodes 25023,edges 968659\n",
      "after G nodes 25023,edges 993682\n",
      "graph reading over time:Sun Apr 25 12:48:12 2021\n"
     ]
    }
   ],
   "source": [
    "name = 'bio72'\n",
    "\n",
    "print('begin time:{}'.format(time.asctime(time.localtime(time.time()))))   \n",
    "adjlist_graph_path = './graphs/' + name + '.adjlist'\n",
    "G = load_ordered_adjlist_graph(adjlist_graph_path)\n",
    "print('graph reading over time:{}'.format(time.asctime(time.localtime(time.time()))))   "
   ]
  },
  {
   "cell_type": "markdown",
   "id": "0768d003-9312-4857-8d04-c6b15eb0fe29",
   "metadata": {},
   "source": [
    "#### train"
   ]
  },
  {
   "cell_type": "code",
   "execution_count": 3,
   "id": "55094f1a-cfc3-4c4e-94a5-41db9db42aba",
   "metadata": {},
   "outputs": [
    {
     "name": "stdout",
     "output_type": "stream",
     "text": [
      "<karateclub.community_detection.non_overlapping.gemsec.GEMSEC object at 0x7fcc4a9329d0>\n",
      "training over time:Sun Apr 25 16:49:29 2021\n"
     ]
    },
    {
     "data": {
      "image/png": "[encoded data removed]",
      "text/plain": [
       "<Figure size 432x288 with 1 Axes>"
      ]
     },
     "metadata": {
      "needs_background": "light"
     },
     "output_type": "display_data"
    }
   ],
   "source": [
    "model = GEMSEC()\n",
    "\n",
    "print(model)\n",
    "model.fit(G)\n",
    "y_pred = model.get_memberships()\n",
    "plt.hist(y_pred, 100)\n",
    "print('training over time:{}'.format(time.asctime(time.localtime(time.time())))) "
   ]
  },
  {
   "cell_type": "markdown",
   "id": "6721e9e9-f89d-447f-835a-fff6a9244079",
   "metadata": {},
   "source": [
    "#### evaluate"
   ]
  },
  {
   "cell_type": "code",
   "execution_count": 4,
   "id": "be1f1c83-5d5e-4b76-8689-2bbf33397186",
   "metadata": {},
   "outputs": [
    {
     "name": "stdout",
     "output_type": "stream",
     "text": [
      "number of edges:993682.0\n",
      "i:233,node_i:233\n",
      "modularity running node:25022,now 2*m*modularity:52842.42734413\n",
      "Final symmetric_matrix_modularity = 0.05317331\n",
      "evaluae modularity over time:Sun Apr 25 17:11:40 2021\n"
     ]
    }
   ],
   "source": [
    "print(f'\\nFinal symmetric_matrix_modularity = {symmetric_matrix_modularity(G, y_pred):.8f}')\n",
    "print('evaluae modularity over time:{}'.format(time.asctime(time.localtime(time.time()))))   "
   ]
  },
  {
   "cell_type": "code",
   "execution_count": 5,
   "id": "17364963-5093-40fe-93b3-8204c8498866",
   "metadata": {},
   "outputs": [
    {
     "name": "stdout",
     "output_type": "stream",
     "text": [
      "number of communities: 10\n",
      "community     3 count 23985\n",
      "community     1 count    18\n",
      "community     8 count   371\n",
      "community     0 count   196\n",
      "community     5 count   304\n",
      "community     9 count    24\n",
      "community     7 count    30\n",
      "community     4 count    22\n",
      "community     2 count    52\n",
      "community     6 count    21\n"
     ]
    }
   ],
   "source": [
    "comm2count = {}\n",
    "for i in range(25023):\n",
    "    if y_pred[i] in comm2count:\n",
    "        comm2count[y_pred[i]] += 1\n",
    "    else:\n",
    "        comm2count[y_pred[i]] = 1\n",
    "print('number of communities: {}'.format(len(comm2count)))\n",
    "for ky in comm2count.keys():\n",
    "    print('community {:5d} count {:5d}'.format(ky, comm2count[ky]))"
   ]
  },
  {
   "cell_type": "code",
   "execution_count": null,
   "id": "e38cf495-be46-4aed-ae6c-8482a90cec35",
   "metadata": {},
   "outputs": [],
   "source": []
  }
 ],
 "metadata": {
  "kernelspec": {
   "display_name": "Python 3",
   "language": "python",
   "name": "python3"
  },
  "language_info": {
   "codemirror_mode": {
    "name": "ipython",
    "version": 3
   },
   "file_extension": ".py",
   "mimetype": "text/x-python",
   "name": "python",
   "nbconvert_exporter": "python",
   "pygments_lexer": "ipython3",
   "version": "3.7.9"
  }
 },
 "nbformat": 4,
 "nbformat_minor": 5
}
