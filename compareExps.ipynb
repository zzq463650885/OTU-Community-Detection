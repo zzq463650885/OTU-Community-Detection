{
 "cells": [
  {
   "cell_type": "markdown",
   "id": "3df18c49-b2b0-46aa-ad7f-1580326dc874",
   "metadata": {},
   "source": [
    "### 1、karateclub's Non-Overlapping Community Detection  \n",
    "GEMSEC (ASONAM 2019)  \n",
    "EdMot (KDD 2019)   \n",
    "SCD (WWW 2014)   \n",
    "LabelPropagation (Physics Review E 2007)  \n",
    "examples: https://github.com/benedekrozemberczki/karateclub/tree/master/examples/community_detection"
   ]
  },
  {
   "cell_type": "code",
   "execution_count": 1,
   "id": "6d2c1c9c-c445-4738-b990-5eb59204f919",
   "metadata": {},
   "outputs": [],
   "source": [
    "import numpy as np\n",
    "from  sklearn import datasets\n",
    "from sklearn.cluster import SpectralClustering\n",
    "import networkx as nx\n",
    "import time\n",
    "import matplotlib.pyplot as plt\n",
    "from karateclub.community_detection.non_overlapping import GEMSEC, SCD, LabelPropagation, EdMot\n",
    "from components.utils import load_edgelist_graph,load_ordered_adjlist_graph\n",
    "from components.evaluation import modularity, symmetric_matrix_modularity"
   ]
  },
  {
   "cell_type": "markdown",
   "id": "861ff03e-5c0d-4ca0-aa23-8bd63011089b",
   "metadata": {},
   "source": [
    "#### graph"
   ]
  },
  {
   "cell_type": "code",
   "execution_count": 2,
   "id": "1ca253e2-c83b-4e23-818c-3c49e3d55296",
   "metadata": {},
   "outputs": [
    {
     "name": "stdout",
     "output_type": "stream",
     "text": [
      "begin time:Mon Apr 26 19:55:44 2021\n"
     ]
    },
    {
     "name": "stderr",
     "output_type": "stream",
     "text": [
      "100%|██████████| 2487156/2487156 [00:16<00:00, 148850.86it/s]\n"
     ]
    },
    {
     "name": "stdout",
     "output_type": "stream",
     "text": [
      "G nodes 25023,edges 2512179 with self-loops read already\n",
      "graph reading over time:Mon Apr 26 19:56:07 2021\n"
     ]
    }
   ],
   "source": [
    "name = 'lle'\n",
    "\n",
    "print('begin time:{}'.format(time.asctime(time.localtime(time.time()))))   \n",
    "adjlist_graph_path = './graphs_merged/' + name + '.adjlist'\n",
    "G = load_ordered_adjlist_graph(adjlist_graph_path)\n",
    "print('graph reading over time:{}'.format(time.asctime(time.localtime(time.time()))))   "
   ]
  },
  {
   "cell_type": "markdown",
   "id": "0768d003-9312-4857-8d04-c6b15eb0fe29",
   "metadata": {},
   "source": [
    "#### train"
   ]
  },
  {
   "cell_type": "code",
   "execution_count": null,
   "id": "55094f1a-cfc3-4c4e-94a5-41db9db42aba",
   "metadata": {},
   "outputs": [
    {
     "name": "stdout",
     "output_type": "stream",
     "text": [
      "<karateclub.community_detection.non_overlapping.scd.SCD object at 0x7f5e02e773d0>\n"
     ]
    }
   ],
   "source": [
    "model = SCD()\n",
    "\n",
    "print(model)\n",
    "model.fit(G)\n",
    "y_pred = model.get_memberships()\n",
    "plt.hist(y_pred, 100)\n",
    "print('training over time:{}'.format(time.asctime(time.localtime(time.time())))) "
   ]
  },
  {
   "cell_type": "markdown",
   "id": "6721e9e9-f89d-447f-835a-fff6a9244079",
   "metadata": {},
   "source": [
    "#### evaluate"
   ]
  },
  {
   "cell_type": "code",
   "execution_count": null,
   "id": "be1f1c83-5d5e-4b76-8689-2bbf33397186",
   "metadata": {},
   "outputs": [],
   "source": [
    "print(f'\\nFinal symmetric_matrix_modularity = {symmetric_matrix_modularity(G, y_pred):.8f}')\n",
    "print('evaluae modularity over time:{}'.format(time.asctime(time.localtime(time.time()))))   "
   ]
  },
  {
   "cell_type": "code",
   "execution_count": null,
   "id": "17364963-5093-40fe-93b3-8204c8498866",
   "metadata": {},
   "outputs": [],
   "source": [
    "comm2count = {}\n",
    "for i in range(25023):\n",
    "    if y_pred[i] in comm2count:\n",
    "        comm2count[y_pred[i]] += 1\n",
    "    else:\n",
    "        comm2count[y_pred[i]] = 1\n",
    "print('number of communities: {}'.format(len(comm2count)))\n",
    "for ky in comm2count.keys():\n",
    "    print('community {:5d} count {:5d}'.format(ky, comm2count[ky]))"
   ]
  },
  {
   "cell_type": "code",
   "execution_count": null,
   "id": "92631bfc-6052-42ad-982f-a6ac2c81dac1",
   "metadata": {},
   "outputs": [],
   "source": []
  }
 ],
 "metadata": {
  "kernelspec": {
   "display_name": "Python 3",
   "language": "python",
   "name": "python3"
  },
  "language_info": {
   "codemirror_mode": {
    "name": "ipython",
    "version": 3
   },
   "file_extension": ".py",
   "mimetype": "text/x-python",
   "name": "python",
   "nbconvert_exporter": "python",
   "pygments_lexer": "ipython3",
   "version": "3.7.9"
  }
 },
 "nbformat": 4,
 "nbformat_minor": 5
}
