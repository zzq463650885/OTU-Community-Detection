{
 "cells": [
  {
   "cell_type": "markdown",
   "id": "3df18c49-b2b0-46aa-ad7f-1580326dc874",
   "metadata": {},
   "source": [
    "#### karateclub's Non-Overlapping Community Detection  \n",
    "GEMSEC (ASONAM 2019)  \n",
    "EdMot (KDD 2019)   \n",
    "SCD (WWW 2014)   \n",
    "Label Propagation (Physics Review E 2007)  \n",
    "examples: https://github.com/benedekrozemberczki/karateclub/tree/master/examples/community_detection"
   ]
  },
  {
   "cell_type": "code",
   "execution_count": 1,
   "id": "6d2c1c9c-c445-4738-b990-5eb59204f919",
   "metadata": {},
   "outputs": [],
   "source": [
    "import networkx as nx\n",
    "import time\n",
    "import matplotlib.pyplot as plt\n",
    "from karateclub.community_detection.non_overlapping import GEMSEC, SCD, LabelPropagation, EdMot\n",
    "from components.utils import load_edgelist_graph,load_ordered_adjlist_graph\n",
    "from components.evaluation import modularity, symmetric_matrix_modularity"
   ]
  },
  {
   "cell_type": "markdown",
   "id": "861ff03e-5c0d-4ca0-aa23-8bd63011089b",
   "metadata": {},
   "source": [
    "#### graph"
   ]
  },
  {
   "cell_type": "code",
   "execution_count": 2,
   "id": "1ca253e2-c83b-4e23-818c-3c49e3d55296",
   "metadata": {},
   "outputs": [
    {
     "name": "stdout",
     "output_type": "stream",
     "text": [
      "begin time:Sun Apr 25 17:51:28 2021\n",
      "initial G nodes 25023,edges 2299958\n",
      "after G nodes 25023,edges 2324981\n",
      "graph reading over time:Sun Apr 25 17:51:53 2021\n"
     ]
    }
   ],
   "source": [
    "name = 'dpwk'\n",
    "\n",
    "print('begin time:{}'.format(time.asctime(time.localtime(time.time()))))   \n",
    "adjlist_graph_path = './graphs/' + name + '.adjlist'\n",
    "G = load_ordered_adjlist_graph(adjlist_graph_path)\n",
    "print('graph reading over time:{}'.format(time.asctime(time.localtime(time.time()))))   "
   ]
  },
  {
   "cell_type": "markdown",
   "id": "0768d003-9312-4857-8d04-c6b15eb0fe29",
   "metadata": {},
   "source": [
    "#### train"
   ]
  },
  {
   "cell_type": "code",
   "execution_count": 3,
   "id": "55094f1a-cfc3-4c4e-94a5-41db9db42aba",
   "metadata": {},
   "outputs": [
    {
     "name": "stdout",
     "output_type": "stream",
     "text": [
      "<karateclub.community_detection.non_overlapping.gemsec.GEMSEC object at 0x7f43330381d0>\n"
     ]
    },
    {
     "ename": "AttributeError",
     "evalue": "'GEMSEC' object has no attribute 'allow_disjoint'",
     "output_type": "error",
     "traceback": [
      "\u001b[0;31m---------------------------------------------------------------------------\u001b[0m",
      "\u001b[0;31mAttributeError\u001b[0m                            Traceback (most recent call last)",
      "\u001b[0;32m<ipython-input-3-7cb219c79169>\u001b[0m in \u001b[0;36m<module>\u001b[0;34m\u001b[0m\n\u001b[1;32m      2\u001b[0m \u001b[0;34m\u001b[0m\u001b[0m\n\u001b[1;32m      3\u001b[0m \u001b[0mprint\u001b[0m\u001b[0;34m(\u001b[0m\u001b[0mmodel\u001b[0m\u001b[0;34m)\u001b[0m\u001b[0;34m\u001b[0m\u001b[0;34m\u001b[0m\u001b[0m\n\u001b[0;32m----> 4\u001b[0;31m \u001b[0mmodel\u001b[0m\u001b[0;34m.\u001b[0m\u001b[0mfit\u001b[0m\u001b[0;34m(\u001b[0m\u001b[0mG\u001b[0m\u001b[0;34m)\u001b[0m\u001b[0;34m\u001b[0m\u001b[0;34m\u001b[0m\u001b[0m\n\u001b[0m\u001b[1;32m      5\u001b[0m \u001b[0my_pred\u001b[0m \u001b[0;34m=\u001b[0m \u001b[0mmodel\u001b[0m\u001b[0;34m.\u001b[0m\u001b[0mget_memberships\u001b[0m\u001b[0;34m(\u001b[0m\u001b[0;34m)\u001b[0m\u001b[0;34m\u001b[0m\u001b[0;34m\u001b[0m\u001b[0m\n\u001b[1;32m      6\u001b[0m \u001b[0mplt\u001b[0m\u001b[0;34m.\u001b[0m\u001b[0mhist\u001b[0m\u001b[0;34m(\u001b[0m\u001b[0my_pred\u001b[0m\u001b[0;34m,\u001b[0m \u001b[0;36m100\u001b[0m\u001b[0;34m)\u001b[0m\u001b[0;34m\u001b[0m\u001b[0;34m\u001b[0m\u001b[0m\n",
      "\u001b[0;32m~/anaconda3/envs/compExp/lib/python3.7/site-packages/karateclub/community_detection/non_overlapping/gemsec.py\u001b[0m in \u001b[0;36mfit\u001b[0;34m(self, graph)\u001b[0m\n\u001b[1;32m    180\u001b[0m         \"\"\"\n\u001b[1;32m    181\u001b[0m         \u001b[0mself\u001b[0m\u001b[0;34m.\u001b[0m\u001b[0m_set_seed\u001b[0m\u001b[0;34m(\u001b[0m\u001b[0;34m)\u001b[0m\u001b[0;34m\u001b[0m\u001b[0;34m\u001b[0m\u001b[0m\n\u001b[0;32m--> 182\u001b[0;31m         \u001b[0mself\u001b[0m\u001b[0;34m.\u001b[0m\u001b[0m_check_graph\u001b[0m\u001b[0;34m(\u001b[0m\u001b[0mgraph\u001b[0m\u001b[0;34m)\u001b[0m\u001b[0;34m\u001b[0m\u001b[0;34m\u001b[0m\u001b[0m\n\u001b[0m\u001b[1;32m    183\u001b[0m         \u001b[0mself\u001b[0m\u001b[0;34m.\u001b[0m\u001b[0m_setup_sampling_weights\u001b[0m\u001b[0;34m(\u001b[0m\u001b[0mgraph\u001b[0m\u001b[0;34m)\u001b[0m\u001b[0;34m\u001b[0m\u001b[0;34m\u001b[0m\u001b[0m\n\u001b[1;32m    184\u001b[0m         \u001b[0mself\u001b[0m\u001b[0;34m.\u001b[0m\u001b[0m_walker\u001b[0m \u001b[0;34m=\u001b[0m \u001b[0mRandomWalker\u001b[0m\u001b[0;34m(\u001b[0m\u001b[0mself\u001b[0m\u001b[0;34m.\u001b[0m\u001b[0mwalk_length\u001b[0m\u001b[0;34m,\u001b[0m \u001b[0mself\u001b[0m\u001b[0;34m.\u001b[0m\u001b[0mwalk_number\u001b[0m\u001b[0;34m)\u001b[0m\u001b[0;34m\u001b[0m\u001b[0;34m\u001b[0m\u001b[0m\n",
      "\u001b[0;32m~/anaconda3/envs/compExp/lib/python3.7/site-packages/karateclub/estimator.py\u001b[0m in \u001b[0;36m_check_graph\u001b[0;34m(self, graph)\u001b[0m\n\u001b[1;32m     60\u001b[0m     \u001b[0;32mdef\u001b[0m \u001b[0m_check_graph\u001b[0m\u001b[0;34m(\u001b[0m\u001b[0mself\u001b[0m\u001b[0;34m,\u001b[0m \u001b[0mgraph\u001b[0m\u001b[0;34m:\u001b[0m \u001b[0mnx\u001b[0m\u001b[0;34m.\u001b[0m\u001b[0mclasses\u001b[0m\u001b[0;34m.\u001b[0m\u001b[0mgraph\u001b[0m\u001b[0;34m.\u001b[0m\u001b[0mGraph\u001b[0m\u001b[0;34m)\u001b[0m\u001b[0;34m:\u001b[0m\u001b[0;34m\u001b[0m\u001b[0;34m\u001b[0m\u001b[0m\n\u001b[1;32m     61\u001b[0m         \u001b[0;34m\"\"\"Check the Karate Club assumptions about the graph.\"\"\"\u001b[0m\u001b[0;34m\u001b[0m\u001b[0;34m\u001b[0m\u001b[0m\n\u001b[0;32m---> 62\u001b[0;31m         \u001b[0mself\u001b[0m\u001b[0;34m.\u001b[0m\u001b[0m_check_connectivity\u001b[0m\u001b[0;34m(\u001b[0m\u001b[0mgraph\u001b[0m\u001b[0;34m)\u001b[0m\u001b[0;34m\u001b[0m\u001b[0;34m\u001b[0m\u001b[0m\n\u001b[0m\u001b[1;32m     63\u001b[0m         \u001b[0mself\u001b[0m\u001b[0;34m.\u001b[0m\u001b[0m_check_directedness\u001b[0m\u001b[0;34m(\u001b[0m\u001b[0mgraph\u001b[0m\u001b[0;34m)\u001b[0m\u001b[0;34m\u001b[0m\u001b[0;34m\u001b[0m\u001b[0m\n\u001b[1;32m     64\u001b[0m         \u001b[0mself\u001b[0m\u001b[0;34m.\u001b[0m\u001b[0m_check_indexing\u001b[0m\u001b[0;34m(\u001b[0m\u001b[0mgraph\u001b[0m\u001b[0;34m)\u001b[0m\u001b[0;34m\u001b[0m\u001b[0;34m\u001b[0m\u001b[0m\n",
      "\u001b[0;32m~/anaconda3/envs/compExp/lib/python3.7/site-packages/karateclub/estimator.py\u001b[0m in \u001b[0;36m_check_connectivity\u001b[0;34m(self, graph)\u001b[0m\n\u001b[1;32m     42\u001b[0m         \u001b[0;34m\"\"\"Checking the connected nature of a single graph.\"\"\"\u001b[0m\u001b[0;34m\u001b[0m\u001b[0;34m\u001b[0m\u001b[0m\n\u001b[1;32m     43\u001b[0m         \u001b[0mconnected\u001b[0m \u001b[0;34m=\u001b[0m \u001b[0mnx\u001b[0m\u001b[0;34m.\u001b[0m\u001b[0mis_connected\u001b[0m\u001b[0;34m(\u001b[0m\u001b[0mgraph\u001b[0m\u001b[0;34m)\u001b[0m\u001b[0;34m\u001b[0m\u001b[0;34m\u001b[0m\u001b[0m\n\u001b[0;32m---> 44\u001b[0;31m         \u001b[0;32massert\u001b[0m \u001b[0mconnected\u001b[0m \u001b[0;32mor\u001b[0m \u001b[0mself\u001b[0m\u001b[0;34m.\u001b[0m\u001b[0mallow_disjoint\u001b[0m\u001b[0;34m,\u001b[0m \u001b[0;34m\"Graph is not connected.\"\u001b[0m\u001b[0;34m\u001b[0m\u001b[0;34m\u001b[0m\u001b[0m\n\u001b[0m\u001b[1;32m     45\u001b[0m \u001b[0;34m\u001b[0m\u001b[0m\n\u001b[1;32m     46\u001b[0m \u001b[0;34m\u001b[0m\u001b[0m\n",
      "\u001b[0;31mAttributeError\u001b[0m: 'GEMSEC' object has no attribute 'allow_disjoint'"
     ]
    }
   ],
   "source": [
    "model = GEMSEC()\n",
    "\n",
    "print(model)\n",
    "model.fit(G)\n",
    "y_pred = model.get_memberships()\n",
    "plt.hist(y_pred, 100)\n",
    "print('training over time:{}'.format(time.asctime(time.localtime(time.time())))) "
   ]
  },
  {
   "cell_type": "markdown",
   "id": "6721e9e9-f89d-447f-835a-fff6a9244079",
   "metadata": {},
   "source": [
    "#### evaluate"
   ]
  },
  {
   "cell_type": "code",
   "execution_count": null,
   "id": "be1f1c83-5d5e-4b76-8689-2bbf33397186",
   "metadata": {},
   "outputs": [],
   "source": [
    "print(f'\\nFinal symmetric_matrix_modularity = {symmetric_matrix_modularity(G, y_pred):.8f}')\n",
    "print('evaluae modularity over time:{}'.format(time.asctime(time.localtime(time.time()))))   "
   ]
  },
  {
   "cell_type": "code",
   "execution_count": null,
   "id": "17364963-5093-40fe-93b3-8204c8498866",
   "metadata": {},
   "outputs": [],
   "source": [
    "comm2count = {}\n",
    "for i in range(25023):\n",
    "    if y_pred[i] in comm2count:\n",
    "        comm2count[y_pred[i]] += 1\n",
    "    else:\n",
    "        comm2count[y_pred[i]] = 1\n",
    "print('number of communities: {}'.format(len(comm2count)))\n",
    "for ky in comm2count.keys():\n",
    "    print('community {:5d} count {:5d}'.format(ky, comm2count[ky]))"
   ]
  },
  {
   "cell_type": "code",
   "execution_count": null,
   "id": "e38cf495-be46-4aed-ae6c-8482a90cec35",
   "metadata": {},
   "outputs": [],
   "source": []
  }
 ],
 "metadata": {
  "kernelspec": {
   "display_name": "Python 3",
   "language": "python",
   "name": "python3"
  },
  "language_info": {
   "codemirror_mode": {
    "name": "ipython",
    "version": 3
   },
   "file_extension": ".py",
   "mimetype": "text/x-python",
   "name": "python",
   "nbconvert_exporter": "python",
   "pygments_lexer": "ipython3",
   "version": "3.7.9"
  }
 },
 "nbformat": 4,
 "nbformat_minor": 5
}
